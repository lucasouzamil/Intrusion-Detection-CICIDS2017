{
 "cells": [
  {
   "cell_type": "markdown",
   "id": "a2f54333",
   "metadata": {},
   "source": [
    "**Autor:** [Lucas Lima](https://github.com/lucasouzamil)\n",
    "\n",
    "# **Análise do Conjunto de Dados de Avaliação de Detecção de Intrusões (CIC-IDS2017)**\n",
    "\n",
    "Este documento tem como propósito apresentar um resumo da [análise conduzida por Noushin Pervez](https://github.com/noushinpervez/Intrusion-Detection-CICIDS2017), na qual a autora explora e compara diferentes modelos de Machine Learning aplicados à detecção de intrusões, utilizando o [Conjunto de Dados CIC-IDS2017](https://www.unb.ca/cic/datasets/ids-2017.html), desenvolvido pelo Canadian Institute for Cybersecurity.\n",
    "\n",
    "A proposta deste resumo é implementar, de forma objetiva e simplificada, os dois modelos considerados mais eficazes pela autora em sua análise, tanto para classificação binária quanto para classificação multiclasses, a fim de reproduzir os resultados em um código mais enxuto e direto. Para informações adicionais ou aprofundamento teórico, recomenda-se a consulta ao estudo original.\n",
    "\n",
    "Este material serve como base para o desenvolvimento de um sistema automatizado capaz de identificar e classificar ameaças cibernéticas em servidores web, com base em dados reais de tráfego de rede.\n",
    "\n",
    "Trata-se de uma iniciativa com fins exclusivamente educacionais."
   ]
  },
  {
   "cell_type": "markdown",
   "id": "e09efe5b",
   "metadata": {},
   "source": [
    "## 1. Coleta dos dados"
   ]
  },
  {
   "cell_type": "code",
   "execution_count": 1,
   "id": "c380f5f9",
   "metadata": {},
   "outputs": [],
   "source": [
    "import numpy as np\n",
    "import pandas as pd\n",
    "import seaborn as sns\n",
    "import missingno as msno\n",
    "import matplotlib.pyplot as plt"
   ]
  },
  {
   "cell_type": "code",
   "execution_count": 45,
   "id": "f212e923",
   "metadata": {},
   "outputs": [],
   "source": [
    "data1 = pd.read_csv('./data/Monday-WorkingHours.pcap_ISCX.csv')\n",
    "data2 = pd.read_csv('./data/Tuesday-WorkingHours.pcap_ISCX.csv')\n",
    "data3 = pd.read_csv('./data/Wednesday-workingHours.pcap_ISCX.csv')\n",
    "data4 = pd.read_csv('./data/Thursday-WorkingHours-Morning-WebAttacks.pcap_ISCX.csv')\n",
    "data5 = pd.read_csv('./data/Thursday-WorkingHours-Afternoon-Infilteration.pcap_ISCX.csv')\n",
    "data6 = pd.read_csv('./data/Friday-WorkingHours-Morning.pcap_ISCX.csv')\n",
    "data7 = pd.read_csv('./data/Friday-WorkingHours-Afternoon-PortScan.pcap_ISCX.csv')\n",
    "data8 = pd.read_csv('./data/Friday-WorkingHours-Afternoon-DDos.pcap_ISCX.csv')"
   ]
  },
  {
   "cell_type": "code",
   "execution_count": 99,
   "id": "ad27907a",
   "metadata": {},
   "outputs": [],
   "source": [
    "# Junção dos diferentes Datasets\n",
    "data_list = [data1, data2, data3, data4, data5, data6, data7, data8]\n",
    "data = pd.concat(data_list)"
   ]
  },
  {
   "cell_type": "code",
   "execution_count": 28,
   "id": "57946c6d",
   "metadata": {},
   "outputs": [],
   "source": [
    "# Removendo datasets para poupar memória\n",
    "for d in data_list: del d"
   ]
  },
  {
   "cell_type": "code",
   "execution_count": 100,
   "id": "71fe1746",
   "metadata": {},
   "outputs": [],
   "source": [
    "# Renomeando as colunas para tirar espaços em branco\n",
    "col_names = {col: col.strip() for col in data.columns}\n",
    "data.rename(columns = col_names, inplace = True)"
   ]
  },
  {
   "cell_type": "code",
   "execution_count": 101,
   "id": "1520a7f5",
   "metadata": {},
   "outputs": [
    {
     "name": "stderr",
     "output_type": "stream",
     "text": [
      "c:\\Users\\Lucas\\Desktop\\techhack\\AF\\venv\\Lib\\site-packages\\pandas\\core\\nanops.py:1016: RuntimeWarning: invalid value encountered in subtract\n",
      "  sqr = _ensure_numeric((avg - values) ** 2)\n",
      "c:\\Users\\Lucas\\Desktop\\techhack\\AF\\venv\\Lib\\site-packages\\pandas\\core\\nanops.py:1016: RuntimeWarning: invalid value encountered in subtract\n",
      "  sqr = _ensure_numeric((avg - values) ** 2)\n"
     ]
    },
    {
     "data": {
      "text/html": [
       "<div>\n",
       "<style scoped>\n",
       "    .dataframe tbody tr th:only-of-type {\n",
       "        vertical-align: middle;\n",
       "    }\n",
       "\n",
       "    .dataframe tbody tr th {\n",
       "        vertical-align: top;\n",
       "    }\n",
       "\n",
       "    .dataframe thead th {\n",
       "        text-align: right;\n",
       "    }\n",
       "</style>\n",
       "<table border=\"1\" class=\"dataframe\">\n",
       "  <thead>\n",
       "    <tr style=\"text-align: right;\">\n",
       "      <th></th>\n",
       "      <th>count</th>\n",
       "      <th>mean</th>\n",
       "      <th>std</th>\n",
       "      <th>min</th>\n",
       "      <th>25%</th>\n",
       "      <th>50%</th>\n",
       "      <th>75%</th>\n",
       "      <th>max</th>\n",
       "    </tr>\n",
       "  </thead>\n",
       "  <tbody>\n",
       "    <tr>\n",
       "      <th>Destination Port</th>\n",
       "      <td>2830743.0</td>\n",
       "      <td>8.071483e+03</td>\n",
       "      <td>1.828363e+04</td>\n",
       "      <td>0.0</td>\n",
       "      <td>53.0</td>\n",
       "      <td>80.0</td>\n",
       "      <td>443.0</td>\n",
       "      <td>65535.0</td>\n",
       "    </tr>\n",
       "    <tr>\n",
       "      <th>Flow Duration</th>\n",
       "      <td>2830743.0</td>\n",
       "      <td>1.478566e+07</td>\n",
       "      <td>3.365374e+07</td>\n",
       "      <td>-13.0</td>\n",
       "      <td>155.0</td>\n",
       "      <td>31316.0</td>\n",
       "      <td>3204828.5</td>\n",
       "      <td>119999998.0</td>\n",
       "    </tr>\n",
       "    <tr>\n",
       "      <th>Total Fwd Packets</th>\n",
       "      <td>2830743.0</td>\n",
       "      <td>9.361160e+00</td>\n",
       "      <td>7.496728e+02</td>\n",
       "      <td>1.0</td>\n",
       "      <td>2.0</td>\n",
       "      <td>2.0</td>\n",
       "      <td>5.0</td>\n",
       "      <td>219759.0</td>\n",
       "    </tr>\n",
       "    <tr>\n",
       "      <th>Total Backward Packets</th>\n",
       "      <td>2830743.0</td>\n",
       "      <td>1.039377e+01</td>\n",
       "      <td>9.973883e+02</td>\n",
       "      <td>0.0</td>\n",
       "      <td>1.0</td>\n",
       "      <td>2.0</td>\n",
       "      <td>4.0</td>\n",
       "      <td>291922.0</td>\n",
       "    </tr>\n",
       "    <tr>\n",
       "      <th>Total Length of Fwd Packets</th>\n",
       "      <td>2830743.0</td>\n",
       "      <td>5.493024e+02</td>\n",
       "      <td>9.993589e+03</td>\n",
       "      <td>0.0</td>\n",
       "      <td>12.0</td>\n",
       "      <td>62.0</td>\n",
       "      <td>187.0</td>\n",
       "      <td>12900000.0</td>\n",
       "    </tr>\n",
       "    <tr>\n",
       "      <th>...</th>\n",
       "      <td>...</td>\n",
       "      <td>...</td>\n",
       "      <td>...</td>\n",
       "      <td>...</td>\n",
       "      <td>...</td>\n",
       "      <td>...</td>\n",
       "      <td>...</td>\n",
       "      <td>...</td>\n",
       "    </tr>\n",
       "    <tr>\n",
       "      <th>Active Min</th>\n",
       "      <td>2830743.0</td>\n",
       "      <td>5.829582e+04</td>\n",
       "      <td>5.770923e+05</td>\n",
       "      <td>0.0</td>\n",
       "      <td>0.0</td>\n",
       "      <td>0.0</td>\n",
       "      <td>0.0</td>\n",
       "      <td>110000000.0</td>\n",
       "    </tr>\n",
       "    <tr>\n",
       "      <th>Idle Mean</th>\n",
       "      <td>2830743.0</td>\n",
       "      <td>8.316037e+06</td>\n",
       "      <td>2.363008e+07</td>\n",
       "      <td>0.0</td>\n",
       "      <td>0.0</td>\n",
       "      <td>0.0</td>\n",
       "      <td>0.0</td>\n",
       "      <td>120000000.0</td>\n",
       "    </tr>\n",
       "    <tr>\n",
       "      <th>Idle Std</th>\n",
       "      <td>2830743.0</td>\n",
       "      <td>5.038439e+05</td>\n",
       "      <td>4.602984e+06</td>\n",
       "      <td>0.0</td>\n",
       "      <td>0.0</td>\n",
       "      <td>0.0</td>\n",
       "      <td>0.0</td>\n",
       "      <td>76900000.0</td>\n",
       "    </tr>\n",
       "    <tr>\n",
       "      <th>Idle Max</th>\n",
       "      <td>2830743.0</td>\n",
       "      <td>8.695752e+06</td>\n",
       "      <td>2.436689e+07</td>\n",
       "      <td>0.0</td>\n",
       "      <td>0.0</td>\n",
       "      <td>0.0</td>\n",
       "      <td>0.0</td>\n",
       "      <td>120000000.0</td>\n",
       "    </tr>\n",
       "    <tr>\n",
       "      <th>Idle Min</th>\n",
       "      <td>2830743.0</td>\n",
       "      <td>7.920031e+06</td>\n",
       "      <td>2.336342e+07</td>\n",
       "      <td>0.0</td>\n",
       "      <td>0.0</td>\n",
       "      <td>0.0</td>\n",
       "      <td>0.0</td>\n",
       "      <td>120000000.0</td>\n",
       "    </tr>\n",
       "  </tbody>\n",
       "</table>\n",
       "<p>78 rows × 8 columns</p>\n",
       "</div>"
      ],
      "text/plain": [
       "                                 count          mean           std   min  \\\n",
       "Destination Port             2830743.0  8.071483e+03  1.828363e+04   0.0   \n",
       "Flow Duration                2830743.0  1.478566e+07  3.365374e+07 -13.0   \n",
       "Total Fwd Packets            2830743.0  9.361160e+00  7.496728e+02   1.0   \n",
       "Total Backward Packets       2830743.0  1.039377e+01  9.973883e+02   0.0   \n",
       "Total Length of Fwd Packets  2830743.0  5.493024e+02  9.993589e+03   0.0   \n",
       "...                                ...           ...           ...   ...   \n",
       "Active Min                   2830743.0  5.829582e+04  5.770923e+05   0.0   \n",
       "Idle Mean                    2830743.0  8.316037e+06  2.363008e+07   0.0   \n",
       "Idle Std                     2830743.0  5.038439e+05  4.602984e+06   0.0   \n",
       "Idle Max                     2830743.0  8.695752e+06  2.436689e+07   0.0   \n",
       "Idle Min                     2830743.0  7.920031e+06  2.336342e+07   0.0   \n",
       "\n",
       "                               25%      50%        75%          max  \n",
       "Destination Port              53.0     80.0      443.0      65535.0  \n",
       "Flow Duration                155.0  31316.0  3204828.5  119999998.0  \n",
       "Total Fwd Packets              2.0      2.0        5.0     219759.0  \n",
       "Total Backward Packets         1.0      2.0        4.0     291922.0  \n",
       "Total Length of Fwd Packets   12.0     62.0      187.0   12900000.0  \n",
       "...                            ...      ...        ...          ...  \n",
       "Active Min                     0.0      0.0        0.0  110000000.0  \n",
       "Idle Mean                      0.0      0.0        0.0  120000000.0  \n",
       "Idle Std                       0.0      0.0        0.0   76900000.0  \n",
       "Idle Max                       0.0      0.0        0.0  120000000.0  \n",
       "Idle Min                       0.0      0.0        0.0  120000000.0  \n",
       "\n",
       "[78 rows x 8 columns]"
      ]
     },
     "execution_count": 101,
     "metadata": {},
     "output_type": "execute_result"
    }
   ],
   "source": [
    "data.describe().transpose()"
   ]
  },
  {
   "cell_type": "markdown",
   "id": "b04ae181",
   "metadata": {},
   "source": [
    "## 2. Pré-processamento de Dados"
   ]
  },
  {
   "cell_type": "code",
   "execution_count": 102,
   "id": "1cde5f97",
   "metadata": {},
   "outputs": [],
   "source": [
    "# Removendo linhas duplicadas (linhas iguais, todas features iguais)\n",
    "data.drop_duplicates(inplace = True)"
   ]
  },
  {
   "cell_type": "code",
   "execution_count": 103,
   "id": "dd16a33e",
   "metadata": {},
   "outputs": [],
   "source": [
    "# Substituindo valores infinitos por NaN\n",
    "data.replace([np.inf, -np.inf], np.nan, inplace = True)"
   ]
  },
  {
   "cell_type": "code",
   "execution_count": 104,
   "id": "df529f77",
   "metadata": {},
   "outputs": [],
   "source": [
    "# Corrigir colunas duplicadas (indices iguais)\n",
    "data = data.loc[:, ~data.columns.duplicated()]\n",
    "\n",
    "# Corrigir índice duplicado (transforma o índice em uma contagem sequencial (0, 1, 2, ...))\n",
    "data = data.reset_index(drop=True)"
   ]
  },
  {
   "cell_type": "code",
   "execution_count": 105,
   "id": "8b04630f",
   "metadata": {},
   "outputs": [
    {
     "name": "stdout",
     "output_type": "stream",
     "text": [
      "Flow Bytes/s      1564\n",
      "Flow Packets/s    1564\n",
      "dtype: int64\n"
     ]
    }
   ],
   "source": [
    "# Identificando valores faltantes NaN\n",
    "missing = data.isna().sum()\n",
    "print(missing.loc[missing > 0])"
   ]
  },
  {
   "cell_type": "code",
   "execution_count": 106,
   "id": "a70f03a3",
   "metadata": {},
   "outputs": [],
   "source": [
    "# Substituindo valores faltantes NaN pela mediana ()\n",
    "med_flow_bytes = data['Flow Bytes/s'].median()\n",
    "med_flow_packets = data['Flow Packets/s'].median()\n",
    "\n",
    "data['Flow Bytes/s'] = data['Flow Bytes/s'].fillna(med_flow_bytes)\n",
    "data['Flow Packets/s'] = data['Flow Packets/s'].fillna(med_flow_packets)"
   ]
  },
  {
   "cell_type": "code",
   "execution_count": 107,
   "id": "273782c5",
   "metadata": {},
   "outputs": [
    {
     "name": "stdout",
     "output_type": "stream",
     "text": [
      "Colunas Dropadas:\n"
     ]
    },
    {
     "data": {
      "text/plain": [
       "Index(['Bwd PSH Flags', 'Bwd URG Flags', 'Fwd Avg Bytes/Bulk',\n",
       "       'Fwd Avg Packets/Bulk', 'Fwd Avg Bulk Rate', 'Bwd Avg Bytes/Bulk',\n",
       "       'Bwd Avg Packets/Bulk', 'Bwd Avg Bulk Rate'],\n",
       "      dtype='object')"
      ]
     },
     "execution_count": 107,
     "metadata": {},
     "output_type": "execute_result"
    }
   ],
   "source": [
    "# Dopando colunas que não alteram o valor\n",
    "num_unique = data.nunique()\n",
    "one_variable = num_unique[num_unique == 1]\n",
    "not_one_variable = num_unique[num_unique > 1].index\n",
    "\n",
    "dropped_cols = one_variable.index\n",
    "data = data[not_one_variable]\n",
    "\n",
    "print('Colunas Dropadas:')\n",
    "dropped_cols"
   ]
  },
  {
   "cell_type": "code",
   "execution_count": 109,
   "id": "723d3c8b",
   "metadata": {},
   "outputs": [],
   "source": [
    "# Criando um dicionario que mapeia cada label para seu tipo de ataque\n",
    "attack_map = {\n",
    "    'BENIGN': 'BENIGN',\n",
    "    'DDoS': 'DDoS',\n",
    "    'DoS Hulk': 'DoS',\n",
    "    'DoS GoldenEye': 'DoS',\n",
    "    'DoS slowloris': 'DoS',\n",
    "    'DoS Slowhttptest': 'DoS',\n",
    "    'PortScan': 'Port Scan',\n",
    "    'FTP-Patator': 'Brute Force',\n",
    "    'SSH-Patator': 'Brute Force',\n",
    "    'Bot': 'Bot',\n",
    "    'Web Attack � Brute Force': 'Web Attack',\n",
    "    'Web Attack � XSS': 'Web Attack',\n",
    "    'Web Attack � Sql Injection': 'Web Attack',\n",
    "    'Infiltration': 'Infiltration',\n",
    "    'Heartbleed': 'Heartbleed'\n",
    "}\n",
    "\n",
    "# Criando uma nova coluna no DataBase usando o dicionario attack_map\n",
    "data['Attack Type'] = data['Label'].map(attack_map)"
   ]
  },
  {
   "cell_type": "code",
   "execution_count": 110,
   "id": "c208da5e",
   "metadata": {},
   "outputs": [],
   "source": [
    "#Dropando coluna antiga\n",
    "data.drop('Label', axis = 1, inplace = True)"
   ]
  },
  {
   "cell_type": "code",
   "execution_count": 111,
   "id": "d52eeaa7",
   "metadata": {},
   "outputs": [
    {
     "data": {
      "text/plain": [
       "Index(['Destination Port', 'Flow Duration', 'Total Fwd Packets',\n",
       "       'Total Backward Packets', 'Total Length of Fwd Packets',\n",
       "       'Total Length of Bwd Packets', 'Fwd Packet Length Max',\n",
       "       'Fwd Packet Length Min', 'Fwd Packet Length Mean',\n",
       "       'Fwd Packet Length Std', 'Bwd Packet Length Max',\n",
       "       'Bwd Packet Length Min', 'Bwd Packet Length Mean',\n",
       "       'Bwd Packet Length Std', 'Flow Bytes/s', 'Flow Packets/s',\n",
       "       'Flow IAT Mean', 'Flow IAT Std', 'Flow IAT Max', 'Flow IAT Min',\n",
       "       'Fwd IAT Total', 'Fwd IAT Mean', 'Fwd IAT Std', 'Fwd IAT Max',\n",
       "       'Fwd IAT Min', 'Bwd IAT Total', 'Bwd IAT Mean', 'Bwd IAT Std',\n",
       "       'Bwd IAT Max', 'Bwd IAT Min', 'Fwd PSH Flags', 'Fwd URG Flags',\n",
       "       'Fwd Header Length', 'Bwd Header Length', 'Fwd Packets/s',\n",
       "       'Bwd Packets/s', 'Min Packet Length', 'Max Packet Length',\n",
       "       'Packet Length Mean', 'Packet Length Std', 'Packet Length Variance',\n",
       "       'FIN Flag Count', 'SYN Flag Count', 'RST Flag Count', 'PSH Flag Count',\n",
       "       'ACK Flag Count', 'URG Flag Count', 'CWE Flag Count', 'ECE Flag Count',\n",
       "       'Down/Up Ratio', 'Average Packet Size', 'Avg Fwd Segment Size',\n",
       "       'Avg Bwd Segment Size', 'Fwd Header Length.1', 'Subflow Fwd Packets',\n",
       "       'Subflow Fwd Bytes', 'Subflow Bwd Packets', 'Subflow Bwd Bytes',\n",
       "       'Init_Win_bytes_forward', 'Init_Win_bytes_backward', 'act_data_pkt_fwd',\n",
       "       'min_seg_size_forward', 'Active Mean', 'Active Std', 'Active Max',\n",
       "       'Active Min', 'Idle Mean', 'Idle Std', 'Idle Max', 'Idle Min',\n",
       "       'Attack Type'],\n",
       "      dtype='object')"
      ]
     },
     "execution_count": 111,
     "metadata": {},
     "output_type": "execute_result"
    }
   ],
   "source": [
    "# Colunas na versão final do pré processamento\n",
    "data.columns"
   ]
  },
  {
   "cell_type": "code",
   "execution_count": 112,
   "id": "3affc9f7",
   "metadata": {},
   "outputs": [],
   "source": [
    "# Padronizando o dataset\n",
    "from sklearn.preprocessing import StandardScaler\n",
    "\n",
    "features = data.drop('Attack Type', axis = 1)\n",
    "attacks = data['Attack Type']\n",
    "\n",
    "scaler = StandardScaler()\n",
    "scaled_features = scaler.fit_transform(features)"
   ]
  },
  {
   "cell_type": "code",
   "execution_count": 113,
   "id": "d8ac2aec",
   "metadata": {},
   "outputs": [
    {
     "name": "stdout",
     "output_type": "stream",
     "text": [
      "information retained: 99.30%\n"
     ]
    }
   ],
   "source": [
    "from sklearn.decomposition import IncrementalPCA\n",
    "\n",
    "size = len(features.columns) // 2\n",
    "ipca = IncrementalPCA(n_components = size, batch_size = 500)\n",
    "for batch in np.array_split(scaled_features, len(features) // 500):\n",
    "  ipca.partial_fit(batch)\n",
    "\n",
    "print(f'information retained: {sum(ipca.explained_variance_ratio_):.2%}')"
   ]
  },
  {
   "cell_type": "code",
   "execution_count": 115,
   "id": "d06c44f8",
   "metadata": {},
   "outputs": [],
   "source": [
    "transformed_features = ipca.transform(scaled_features)\n",
    "new_data = pd.DataFrame(transformed_features, columns = [f'PC{i+1}' for i in range(size)])\n",
    "new_data['Attack Type'] = attacks.values"
   ]
  },
  {
   "cell_type": "code",
   "execution_count": 116,
   "id": "20d69c64",
   "metadata": {},
   "outputs": [
    {
     "data": {
      "text/html": [
       "<div>\n",
       "<style scoped>\n",
       "    .dataframe tbody tr th:only-of-type {\n",
       "        vertical-align: middle;\n",
       "    }\n",
       "\n",
       "    .dataframe tbody tr th {\n",
       "        vertical-align: top;\n",
       "    }\n",
       "\n",
       "    .dataframe thead th {\n",
       "        text-align: right;\n",
       "    }\n",
       "</style>\n",
       "<table border=\"1\" class=\"dataframe\">\n",
       "  <thead>\n",
       "    <tr style=\"text-align: right;\">\n",
       "      <th></th>\n",
       "      <th>PC1</th>\n",
       "      <th>PC2</th>\n",
       "      <th>PC3</th>\n",
       "      <th>PC4</th>\n",
       "      <th>PC5</th>\n",
       "      <th>PC6</th>\n",
       "      <th>PC7</th>\n",
       "      <th>PC8</th>\n",
       "      <th>PC9</th>\n",
       "      <th>PC10</th>\n",
       "      <th>...</th>\n",
       "      <th>PC27</th>\n",
       "      <th>PC28</th>\n",
       "      <th>PC29</th>\n",
       "      <th>PC30</th>\n",
       "      <th>PC31</th>\n",
       "      <th>PC32</th>\n",
       "      <th>PC33</th>\n",
       "      <th>PC34</th>\n",
       "      <th>PC35</th>\n",
       "      <th>Attack Type</th>\n",
       "    </tr>\n",
       "  </thead>\n",
       "  <tbody>\n",
       "    <tr>\n",
       "      <th>0</th>\n",
       "      <td>-2.357605</td>\n",
       "      <td>-0.054980</td>\n",
       "      <td>0.577367</td>\n",
       "      <td>0.734454</td>\n",
       "      <td>3.730371</td>\n",
       "      <td>0.234648</td>\n",
       "      <td>-0.015694</td>\n",
       "      <td>-0.215593</td>\n",
       "      <td>-0.278501</td>\n",
       "      <td>1.087262</td>\n",
       "      <td>...</td>\n",
       "      <td>-0.147988</td>\n",
       "      <td>-0.334371</td>\n",
       "      <td>1.487918</td>\n",
       "      <td>-0.163631</td>\n",
       "      <td>-0.219312</td>\n",
       "      <td>-0.004576</td>\n",
       "      <td>0.002609</td>\n",
       "      <td>0.034128</td>\n",
       "      <td>-0.015853</td>\n",
       "      <td>BENIGN</td>\n",
       "    </tr>\n",
       "    <tr>\n",
       "      <th>1</th>\n",
       "      <td>-2.883854</td>\n",
       "      <td>-0.069938</td>\n",
       "      <td>0.911321</td>\n",
       "      <td>1.763147</td>\n",
       "      <td>8.846136</td>\n",
       "      <td>0.620454</td>\n",
       "      <td>-0.056858</td>\n",
       "      <td>1.106466</td>\n",
       "      <td>1.906559</td>\n",
       "      <td>-2.756474</td>\n",
       "      <td>...</td>\n",
       "      <td>0.282642</td>\n",
       "      <td>-2.347082</td>\n",
       "      <td>2.238826</td>\n",
       "      <td>-0.640825</td>\n",
       "      <td>-0.367420</td>\n",
       "      <td>0.010520</td>\n",
       "      <td>0.000645</td>\n",
       "      <td>0.125795</td>\n",
       "      <td>-0.190767</td>\n",
       "      <td>BENIGN</td>\n",
       "    </tr>\n",
       "    <tr>\n",
       "      <th>2</th>\n",
       "      <td>-2.416928</td>\n",
       "      <td>-0.056683</td>\n",
       "      <td>0.615335</td>\n",
       "      <td>0.850869</td>\n",
       "      <td>4.304213</td>\n",
       "      <td>0.275779</td>\n",
       "      <td>-0.020438</td>\n",
       "      <td>-0.070542</td>\n",
       "      <td>-0.035290</td>\n",
       "      <td>0.664153</td>\n",
       "      <td>...</td>\n",
       "      <td>-0.101730</td>\n",
       "      <td>-0.545536</td>\n",
       "      <td>1.572158</td>\n",
       "      <td>-0.213910</td>\n",
       "      <td>-0.234609</td>\n",
       "      <td>-0.003047</td>\n",
       "      <td>0.002402</td>\n",
       "      <td>0.043993</td>\n",
       "      <td>-0.035273</td>\n",
       "      <td>BENIGN</td>\n",
       "    </tr>\n",
       "    <tr>\n",
       "      <th>3</th>\n",
       "      <td>-2.884705</td>\n",
       "      <td>-0.069978</td>\n",
       "      <td>0.912183</td>\n",
       "      <td>1.765263</td>\n",
       "      <td>8.851561</td>\n",
       "      <td>0.618717</td>\n",
       "      <td>-0.057028</td>\n",
       "      <td>1.104621</td>\n",
       "      <td>1.906986</td>\n",
       "      <td>-2.752501</td>\n",
       "      <td>...</td>\n",
       "      <td>0.281052</td>\n",
       "      <td>-2.334612</td>\n",
       "      <td>2.239632</td>\n",
       "      <td>-0.638082</td>\n",
       "      <td>-0.366261</td>\n",
       "      <td>0.010372</td>\n",
       "      <td>0.000655</td>\n",
       "      <td>0.125475</td>\n",
       "      <td>-0.190752</td>\n",
       "      <td>BENIGN</td>\n",
       "    </tr>\n",
       "    <tr>\n",
       "      <th>4</th>\n",
       "      <td>-1.505248</td>\n",
       "      <td>0.080886</td>\n",
       "      <td>-0.504396</td>\n",
       "      <td>0.290414</td>\n",
       "      <td>-0.539267</td>\n",
       "      <td>0.746103</td>\n",
       "      <td>0.100443</td>\n",
       "      <td>0.732508</td>\n",
       "      <td>-1.145775</td>\n",
       "      <td>-0.563206</td>\n",
       "      <td>...</td>\n",
       "      <td>-0.599155</td>\n",
       "      <td>0.116353</td>\n",
       "      <td>0.795041</td>\n",
       "      <td>-0.211000</td>\n",
       "      <td>0.042492</td>\n",
       "      <td>-0.014254</td>\n",
       "      <td>0.000957</td>\n",
       "      <td>-0.052009</td>\n",
       "      <td>0.001372</td>\n",
       "      <td>BENIGN</td>\n",
       "    </tr>\n",
       "    <tr>\n",
       "      <th>...</th>\n",
       "      <td>...</td>\n",
       "      <td>...</td>\n",
       "      <td>...</td>\n",
       "      <td>...</td>\n",
       "      <td>...</td>\n",
       "      <td>...</td>\n",
       "      <td>...</td>\n",
       "      <td>...</td>\n",
       "      <td>...</td>\n",
       "      <td>...</td>\n",
       "      <td>...</td>\n",
       "      <td>...</td>\n",
       "      <td>...</td>\n",
       "      <td>...</td>\n",
       "      <td>...</td>\n",
       "      <td>...</td>\n",
       "      <td>...</td>\n",
       "      <td>...</td>\n",
       "      <td>...</td>\n",
       "      <td>...</td>\n",
       "      <td>...</td>\n",
       "    </tr>\n",
       "    <tr>\n",
       "      <th>2522357</th>\n",
       "      <td>-2.270966</td>\n",
       "      <td>-0.048462</td>\n",
       "      <td>0.480012</td>\n",
       "      <td>0.461159</td>\n",
       "      <td>2.163937</td>\n",
       "      <td>-0.144601</td>\n",
       "      <td>-0.016015</td>\n",
       "      <td>-0.777804</td>\n",
       "      <td>-0.908055</td>\n",
       "      <td>2.711084</td>\n",
       "      <td>...</td>\n",
       "      <td>-0.043101</td>\n",
       "      <td>0.787857</td>\n",
       "      <td>0.785667</td>\n",
       "      <td>0.247959</td>\n",
       "      <td>0.036167</td>\n",
       "      <td>-0.017415</td>\n",
       "      <td>0.001898</td>\n",
       "      <td>0.005532</td>\n",
       "      <td>-0.005967</td>\n",
       "      <td>BENIGN</td>\n",
       "    </tr>\n",
       "    <tr>\n",
       "      <th>2522358</th>\n",
       "      <td>-2.267921</td>\n",
       "      <td>-0.048377</td>\n",
       "      <td>0.478583</td>\n",
       "      <td>0.457923</td>\n",
       "      <td>2.144121</td>\n",
       "      <td>-0.146620</td>\n",
       "      <td>-0.015946</td>\n",
       "      <td>-0.780613</td>\n",
       "      <td>-0.911196</td>\n",
       "      <td>2.717732</td>\n",
       "      <td>...</td>\n",
       "      <td>-0.041162</td>\n",
       "      <td>0.789232</td>\n",
       "      <td>0.787023</td>\n",
       "      <td>0.249306</td>\n",
       "      <td>0.038001</td>\n",
       "      <td>-0.017559</td>\n",
       "      <td>0.001901</td>\n",
       "      <td>0.005085</td>\n",
       "      <td>-0.006293</td>\n",
       "      <td>BENIGN</td>\n",
       "    </tr>\n",
       "    <tr>\n",
       "      <th>2522359</th>\n",
       "      <td>-2.267236</td>\n",
       "      <td>-0.048358</td>\n",
       "      <td>0.478260</td>\n",
       "      <td>0.457172</td>\n",
       "      <td>2.139660</td>\n",
       "      <td>-0.147061</td>\n",
       "      <td>-0.015930</td>\n",
       "      <td>-0.781230</td>\n",
       "      <td>-0.911881</td>\n",
       "      <td>2.719162</td>\n",
       "      <td>...</td>\n",
       "      <td>-0.040728</td>\n",
       "      <td>0.789376</td>\n",
       "      <td>0.787329</td>\n",
       "      <td>0.249559</td>\n",
       "      <td>0.038386</td>\n",
       "      <td>-0.017590</td>\n",
       "      <td>0.001901</td>\n",
       "      <td>0.004988</td>\n",
       "      <td>-0.006363</td>\n",
       "      <td>BENIGN</td>\n",
       "    </tr>\n",
       "    <tr>\n",
       "      <th>2522360</th>\n",
       "      <td>-2.102459</td>\n",
       "      <td>-0.041899</td>\n",
       "      <td>0.361540</td>\n",
       "      <td>0.268739</td>\n",
       "      <td>1.795816</td>\n",
       "      <td>0.284755</td>\n",
       "      <td>0.006681</td>\n",
       "      <td>-0.296210</td>\n",
       "      <td>-0.631077</td>\n",
       "      <td>0.966695</td>\n",
       "      <td>...</td>\n",
       "      <td>-0.372704</td>\n",
       "      <td>1.793470</td>\n",
       "      <td>-0.925189</td>\n",
       "      <td>0.297419</td>\n",
       "      <td>0.128586</td>\n",
       "      <td>-0.006211</td>\n",
       "      <td>0.002178</td>\n",
       "      <td>-0.077697</td>\n",
       "      <td>0.032569</td>\n",
       "      <td>BENIGN</td>\n",
       "    </tr>\n",
       "    <tr>\n",
       "      <th>2522361</th>\n",
       "      <td>-2.382427</td>\n",
       "      <td>-0.018449</td>\n",
       "      <td>0.397038</td>\n",
       "      <td>0.860374</td>\n",
       "      <td>2.465448</td>\n",
       "      <td>0.612889</td>\n",
       "      <td>0.069454</td>\n",
       "      <td>-0.406985</td>\n",
       "      <td>-2.358812</td>\n",
       "      <td>3.918983</td>\n",
       "      <td>...</td>\n",
       "      <td>0.295253</td>\n",
       "      <td>-0.034873</td>\n",
       "      <td>-0.032147</td>\n",
       "      <td>0.247529</td>\n",
       "      <td>-0.155516</td>\n",
       "      <td>0.010317</td>\n",
       "      <td>0.000219</td>\n",
       "      <td>-0.068817</td>\n",
       "      <td>-0.001129</td>\n",
       "      <td>BENIGN</td>\n",
       "    </tr>\n",
       "  </tbody>\n",
       "</table>\n",
       "<p>2522362 rows × 36 columns</p>\n",
       "</div>"
      ],
      "text/plain": [
       "              PC1       PC2       PC3       PC4       PC5       PC6       PC7  \\\n",
       "0       -2.357605 -0.054980  0.577367  0.734454  3.730371  0.234648 -0.015694   \n",
       "1       -2.883854 -0.069938  0.911321  1.763147  8.846136  0.620454 -0.056858   \n",
       "2       -2.416928 -0.056683  0.615335  0.850869  4.304213  0.275779 -0.020438   \n",
       "3       -2.884705 -0.069978  0.912183  1.765263  8.851561  0.618717 -0.057028   \n",
       "4       -1.505248  0.080886 -0.504396  0.290414 -0.539267  0.746103  0.100443   \n",
       "...           ...       ...       ...       ...       ...       ...       ...   \n",
       "2522357 -2.270966 -0.048462  0.480012  0.461159  2.163937 -0.144601 -0.016015   \n",
       "2522358 -2.267921 -0.048377  0.478583  0.457923  2.144121 -0.146620 -0.015946   \n",
       "2522359 -2.267236 -0.048358  0.478260  0.457172  2.139660 -0.147061 -0.015930   \n",
       "2522360 -2.102459 -0.041899  0.361540  0.268739  1.795816  0.284755  0.006681   \n",
       "2522361 -2.382427 -0.018449  0.397038  0.860374  2.465448  0.612889  0.069454   \n",
       "\n",
       "              PC8       PC9      PC10  ...      PC27      PC28      PC29  \\\n",
       "0       -0.215593 -0.278501  1.087262  ... -0.147988 -0.334371  1.487918   \n",
       "1        1.106466  1.906559 -2.756474  ...  0.282642 -2.347082  2.238826   \n",
       "2       -0.070542 -0.035290  0.664153  ... -0.101730 -0.545536  1.572158   \n",
       "3        1.104621  1.906986 -2.752501  ...  0.281052 -2.334612  2.239632   \n",
       "4        0.732508 -1.145775 -0.563206  ... -0.599155  0.116353  0.795041   \n",
       "...           ...       ...       ...  ...       ...       ...       ...   \n",
       "2522357 -0.777804 -0.908055  2.711084  ... -0.043101  0.787857  0.785667   \n",
       "2522358 -0.780613 -0.911196  2.717732  ... -0.041162  0.789232  0.787023   \n",
       "2522359 -0.781230 -0.911881  2.719162  ... -0.040728  0.789376  0.787329   \n",
       "2522360 -0.296210 -0.631077  0.966695  ... -0.372704  1.793470 -0.925189   \n",
       "2522361 -0.406985 -2.358812  3.918983  ...  0.295253 -0.034873 -0.032147   \n",
       "\n",
       "             PC30      PC31      PC32      PC33      PC34      PC35  \\\n",
       "0       -0.163631 -0.219312 -0.004576  0.002609  0.034128 -0.015853   \n",
       "1       -0.640825 -0.367420  0.010520  0.000645  0.125795 -0.190767   \n",
       "2       -0.213910 -0.234609 -0.003047  0.002402  0.043993 -0.035273   \n",
       "3       -0.638082 -0.366261  0.010372  0.000655  0.125475 -0.190752   \n",
       "4       -0.211000  0.042492 -0.014254  0.000957 -0.052009  0.001372   \n",
       "...           ...       ...       ...       ...       ...       ...   \n",
       "2522357  0.247959  0.036167 -0.017415  0.001898  0.005532 -0.005967   \n",
       "2522358  0.249306  0.038001 -0.017559  0.001901  0.005085 -0.006293   \n",
       "2522359  0.249559  0.038386 -0.017590  0.001901  0.004988 -0.006363   \n",
       "2522360  0.297419  0.128586 -0.006211  0.002178 -0.077697  0.032569   \n",
       "2522361  0.247529 -0.155516  0.010317  0.000219 -0.068817 -0.001129   \n",
       "\n",
       "         Attack Type  \n",
       "0             BENIGN  \n",
       "1             BENIGN  \n",
       "2             BENIGN  \n",
       "3             BENIGN  \n",
       "4             BENIGN  \n",
       "...              ...  \n",
       "2522357       BENIGN  \n",
       "2522358       BENIGN  \n",
       "2522359       BENIGN  \n",
       "2522360       BENIGN  \n",
       "2522361       BENIGN  \n",
       "\n",
       "[2522362 rows x 36 columns]"
      ]
     },
     "execution_count": 116,
     "metadata": {},
     "output_type": "execute_result"
    }
   ],
   "source": [
    "new_data"
   ]
  },
  {
   "cell_type": "markdown",
   "id": "ba3558d4",
   "metadata": {},
   "source": [
    "## 3. Modelos de\tMachine Learning"
   ]
  },
  {
   "cell_type": "code",
   "execution_count": 117,
   "id": "953252f6",
   "metadata": {},
   "outputs": [],
   "source": [
    "import matplotlib.pyplot as plt\n",
    "from sklearn.model_selection import cross_val_score\n",
    "from sklearn.metrics import confusion_matrix, ConfusionMatrixDisplay, accuracy_score, classification_report, roc_auc_score, roc_curve, auc, precision_recall_curve"
   ]
  },
  {
   "cell_type": "markdown",
   "id": "9f917f53",
   "metadata": {},
   "source": [
    "### 3.1 Classificação Binária (Support Vector Machine)"
   ]
  },
  {
   "cell_type": "code",
   "execution_count": 88,
   "id": "4a7a39fc",
   "metadata": {},
   "outputs": [],
   "source": [
    "# Criando dataset balanceado para classificação binária\n",
    "normal_traffic = new_data.loc[new_data['Attack Type'] == 'BENIGN']\n",
    "intrusions = new_data.loc[new_data['Attack Type'] != 'BENIGN']\n",
    "\n",
    "normal_traffic = normal_traffic.sample(n = len(intrusions), replace = False)\n",
    "\n",
    "ids_data = pd.concat([intrusions, normal_traffic])\n",
    "ids_data['Attack Type'] = np.where((ids_data['Attack Type'] == 'BENIGN'), 0, 1)\n",
    "bc_data = ids_data.sample(n = 15000)"
   ]
  },
  {
   "cell_type": "code",
   "execution_count": 89,
   "id": "abe95880",
   "metadata": {},
   "outputs": [
    {
     "name": "stdout",
     "output_type": "stream",
     "text": [
      "Attack Type\n",
      "1    7501\n",
      "0    7499\n",
      "Name: count, dtype: int64\n"
     ]
    }
   ],
   "source": [
    "print(bc_data['Attack Type'].value_counts())"
   ]
  },
  {
   "cell_type": "code",
   "execution_count": 118,
   "id": "964ea109",
   "metadata": {},
   "outputs": [],
   "source": [
    "# Dividindo os dados em features e target\n",
    "from sklearn.model_selection import train_test_split\n",
    "\n",
    "X_bc = bc_data.drop('Attack Type', axis = 1)\n",
    "y_bc = bc_data['Attack Type']\n",
    "\n",
    "X_train_bc, X_test_bc, y_train_bc, y_test_bc = train_test_split(X_bc, y_bc, test_size = 0.25, random_state = 0)"
   ]
  },
  {
   "cell_type": "code",
   "execution_count": 119,
   "id": "a28e82a7",
   "metadata": {},
   "outputs": [
    {
     "name": "stdout",
     "output_type": "stream",
     "text": [
      "Support Vector Machine Model 2\n",
      "\n",
      "Cross-validation scores: 0.9657777777777777, 0.96, 0.9608888888888889, 0.9591111111111111, 0.96\n",
      "\n",
      "Mean cross-validation score: 0.96\n"
     ]
    }
   ],
   "source": [
    "from sklearn.svm import SVC\n",
    "\n",
    "svm = SVC(kernel = 'rbf', C = 1, gamma = 0.1, random_state = 0, probability = True)\n",
    "svm.fit(X_train_bc, y_train_bc)\n",
    "\n",
    "cv_svm = cross_val_score(svm, X_train_bc, y_train_bc, cv = 5)\n",
    "print('Support Vector Machine Model 2')\n",
    "print(f'\\nCross-validation scores:', ', '.join(map(str, cv_svm)))\n",
    "print(f'\\nMean cross-validation score: {cv_svm.mean():.2f}')"
   ]
  },
  {
   "cell_type": "code",
   "execution_count": 126,
   "id": "a4bcbdfb",
   "metadata": {},
   "outputs": [
    {
     "data": {
      "image/png": "[encoded data removed]",
      "text/plain": [
       "<Figure size 600x400 with 2 Axes>"
      ]
     },
     "metadata": {},
     "output_type": "display_data"
    }
   ],
   "source": [
    "y_pred_svm = svm.predict(X_test_bc)\n",
    "\n",
    "conf_matrix_model = confusion_matrix(y_test_bc, y_pred_svm)\n",
    "\n",
    "plt.figure(figsize=(6, 4))\n",
    "sns.heatmap(conf_matrix_model, annot=True, cmap='Blues', fmt='g')\n",
    "plt.title('SVM - Matriz de Confusão')\n",
    "plt.xlabel('Rótulo Previsto')\n",
    "plt.ylabel('Rótulo Real')\n",
    "plt.show()"
   ]
  },
  {
   "cell_type": "code",
   "execution_count": 127,
   "id": "66bdf59a",
   "metadata": {},
   "outputs": [
    {
     "data": {
      "image/png": "[encoded data removed]",
      "text/plain": [
       "<Figure size 800x600 with 2 Axes>"
      ]
     },
     "metadata": {},
     "output_type": "display_data"
    }
   ],
   "source": [
    "target_names = svm.classes_\n",
    "metrics = classification_report(y_true=y_test_bc, y_pred=y_pred_svm, target_names=target_names, output_dict=True)\n",
    "\n",
    "precision = [metrics[target]['precision'] for target in target_names]\n",
    "recall = [metrics[target]['recall'] for target in target_names]\n",
    "f1 = [metrics[target]['f1-score'] for target in target_names]\n",
    "\n",
    "data = [precision, recall, f1]\n",
    "rows = ['Precision', 'Recall', 'F1-score']\n",
    "\n",
    "plt.figure(figsize=(8, 6))\n",
    "sns.heatmap(data, cmap='Pastel1', annot=True, fmt='.2f', xticklabels=target_names, yticklabels=rows)\n",
    "plt.title('Relatório de Classificação - SVM')\n",
    "plt.xlabel('Classe Prevista')\n",
    "plt.ylabel('Métrica')\n",
    "plt.show()"
   ]
  },
  {
   "cell_type": "markdown",
   "id": "8529eb81",
   "metadata": {},
   "source": [
    "### 3.1 Classificação Multiclasse (Random Forest)"
   ]
  },
  {
   "cell_type": "code",
   "execution_count": 121,
   "id": "56a9015b",
   "metadata": {},
   "outputs": [
    {
     "data": {
      "text/plain": [
       "Attack Type\n",
       "BENIGN          2096484\n",
       "DoS              193748\n",
       "DDoS             128016\n",
       "Port Scan         90819\n",
       "Brute Force        9152\n",
       "Web Attack         2143\n",
       "Bot                1953\n",
       "Infiltration         36\n",
       "Heartbleed           11\n",
       "Name: count, dtype: int64"
      ]
     },
     "execution_count": 121,
     "metadata": {},
     "output_type": "execute_result"
    }
   ],
   "source": [
    "new_data['Attack Type'].value_counts()"
   ]
  },
  {
   "cell_type": "code",
   "execution_count": 122,
   "id": "3d3fea7f",
   "metadata": {},
   "outputs": [
    {
     "data": {
      "text/plain": [
       "Attack Type\n",
       "BENIGN         5000\n",
       "DoS            5000\n",
       "DDoS           5000\n",
       "Port Scan      5000\n",
       "Brute Force    5000\n",
       "Web Attack     2143\n",
       "Bot            1953\n",
       "Name: count, dtype: int64"
      ]
     },
     "execution_count": 122,
     "metadata": {},
     "output_type": "execute_result"
    }
   ],
   "source": [
    "class_counts = new_data['Attack Type'].value_counts()\n",
    "selected_classes = class_counts[class_counts > 1950]\n",
    "class_names = selected_classes.index\n",
    "selected = new_data[new_data['Attack Type'].isin(class_names)]\n",
    "\n",
    "dfs = []\n",
    "for name in class_names:\n",
    "  df = selected[selected['Attack Type'] == name]\n",
    "  if len(df) > 2500:\n",
    "    df = df.sample(n = 5000, random_state = 0)\n",
    "\n",
    "  dfs.append(df)\n",
    "\n",
    "df = pd.concat(dfs, ignore_index = True)\n",
    "df['Attack Type'].value_counts()"
   ]
  },
  {
   "cell_type": "code",
   "execution_count": 123,
   "id": "be77f7e3",
   "metadata": {},
   "outputs": [
    {
     "data": {
      "text/plain": [
       "Attack Type\n",
       "DDoS           5000\n",
       "Brute Force    5000\n",
       "Port Scan      5000\n",
       "DoS            5000\n",
       "Bot            5000\n",
       "BENIGN         5000\n",
       "Web Attack     5000\n",
       "Name: count, dtype: int64"
      ]
     },
     "execution_count": 123,
     "metadata": {},
     "output_type": "execute_result"
    }
   ],
   "source": [
    "from imblearn.over_sampling import SMOTE\n",
    "\n",
    "X = df.drop('Attack Type', axis=1)\n",
    "y = df['Attack Type']\n",
    "\n",
    "smote = SMOTE(sampling_strategy='auto', random_state=0)\n",
    "X_upsampled, y_upsampled = smote.fit_resample(X, y)\n",
    "\n",
    "blnc_data = pd.DataFrame(X_upsampled)\n",
    "blnc_data['Attack Type'] = y_upsampled\n",
    "blnc_data = blnc_data.sample(frac=1)\n",
    "\n",
    "blnc_data['Attack Type'].value_counts()"
   ]
  },
  {
   "cell_type": "code",
   "execution_count": 124,
   "id": "02bf107b",
   "metadata": {},
   "outputs": [],
   "source": [
    "features = blnc_data.drop('Attack Type', axis = 1)\n",
    "labels = blnc_data['Attack Type']\n",
    "\n",
    "X_train, X_test, y_train, y_test = train_test_split(features, labels, test_size = 0.25, random_state = 0)"
   ]
  },
  {
   "cell_type": "code",
   "execution_count": 125,
   "id": "23fefcaf",
   "metadata": {},
   "outputs": [
    {
     "name": "stdout",
     "output_type": "stream",
     "text": [
      "Random Forest Model 2\n",
      "\n",
      "Cross-validation scores: 0.9822857142857143, 0.9813333333333333, 0.9777142857142858, 0.9845714285714285, 0.9836190476190476\n",
      "\n",
      "Mean cross-validation score: 0.98\n"
     ]
    }
   ],
   "source": [
    "from sklearn.ensemble import RandomForestClassifier\n",
    "\n",
    "rf = RandomForestClassifier(n_estimators = 15, max_depth = 8, max_features = 20, random_state = 0)\n",
    "rf.fit(X_train, y_train)\n",
    "\n",
    "cv_rf = cross_val_score(rf, X_train, y_train, cv = 5)\n",
    "print('Random Forest Model 2')\n",
    "print(f'\\nCross-validation scores:', ', '.join(map(str, cv_rf)))\n",
    "print(f'\\nMean cross-validation score: {cv_rf.mean():.2f}')"
   ]
  },
  {
   "cell_type": "code",
   "execution_count": 128,
   "id": "a67dbfd3",
   "metadata": {},
   "outputs": [
    {
     "data": {
      "image/png": "[encoded data removed]",
      "text/plain": [
       "<Figure size 800x600 with 2 Axes>"
      ]
     },
     "metadata": {},
     "output_type": "display_data"
    }
   ],
   "source": [
    "y_pred_rf = rf.predict(X_test)\n",
    "\n",
    "conf_matrix = confusion_matrix(y_test, y_pred_rf)\n",
    "\n",
    "plt.figure(figsize=(8, 6))\n",
    "sns.heatmap(conf_matrix, annot=True, cmap='Blues', xticklabels=rf.classes_, yticklabels=rf.classes_)\n",
    "plt.title('Matriz de Confusão - Random Forest')\n",
    "plt.xlabel('Rótulo Previsto')\n",
    "plt.ylabel('Rótulo Real')\n",
    "plt.tight_layout()\n",
    "plt.show()"
   ]
  },
  {
   "cell_type": "code",
   "execution_count": 129,
   "id": "0989e105",
   "metadata": {},
   "outputs": [
    {
     "data": {
      "image/png": "[encoded data removed]",
      "text/plain": [
       "<Figure size 800x600 with 2 Axes>"
      ]
     },
     "metadata": {},
     "output_type": "display_data"
    }
   ],
   "source": [
    "target_names = rf.classes_\n",
    "metrics = classification_report(y_true=y_test, y_pred=y_pred_rf, target_names=target_names, output_dict=True)\n",
    "\n",
    "precision = [metrics[target]['precision'] for target in target_names]\n",
    "recall = [metrics[target]['recall'] for target in target_names]\n",
    "f1 = [metrics[target]['f1-score'] for target in target_names]\n",
    "\n",
    "data = [precision, recall, f1]\n",
    "rows = ['Precision', 'Recall', 'F1-score']\n",
    "\n",
    "plt.figure(figsize=(8, 6))\n",
    "sns.heatmap(data, cmap='Pastel1', annot=True, fmt='.2f', xticklabels=target_names, yticklabels=rows)\n",
    "plt.title('Relatório de Classificação - Random Forest')\n",
    "plt.xlabel('Classe')\n",
    "plt.ylabel('Métrica')\n",
    "plt.show()"
   ]
  },
  {
   "cell_type": "code",
   "execution_count": null,
   "id": "8ff0fcac",
   "metadata": {},
   "outputs": [],
   "source": []
  }
 ],
 "metadata": {
  "kernelspec": {
   "display_name": "venv",
   "language": "python",
   "name": "python3"
  },
  "language_info": {
   "codemirror_mode": {
    "name": "ipython",
    "version": 3
   },
   "file_extension": ".py",
   "mimetype": "text/x-python",
   "name": "python",
   "nbconvert_exporter": "python",
   "pygments_lexer": "ipython3",
   "version": "3.12.9"
  }
 },
 "nbformat": 4,
 "nbformat_minor": 5
}
